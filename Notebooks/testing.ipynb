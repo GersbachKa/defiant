{
 "cells": [
  {
   "cell_type": "code",
   "execution_count": 1,
   "metadata": {},
   "outputs": [
    {
     "name": "stdout",
     "output_type": "stream",
     "text": [
      "Warning: cannot find astropy, units support will not be available.\n"
     ]
    }
   ],
   "source": [
    "%matplotlib inline\n",
    "%config InlineBackend.figure_format = 'retina'\n",
    "\n",
    "%load_ext autoreload\n",
    "%autoreload 2\n",
    "\n",
    "import numpy as np\n",
    "from matplotlib import pyplot as plt\n",
    "from glob import glob\n",
    "\n",
    "import enterprise\n",
    "from enterprise.pulsar import Pulsar\n",
    "from enterprise.signals import parameter,white_signals,gp_signals,signal_base\n",
    "\n",
    "from enterprise_extensions import blocks\n",
    "from enterprise_extensions.model_utils import get_tspan\n",
    "\n",
    "from la_forge.core import Core\n",
    "\n",
    "import sys\n",
    "sys.path.append('../')\n",
    "sys.path.append('../../PerFreqOS')\n",
    "\n",
    "from OSplusplus import OSplusplus as ospp\n",
    "\n",
    "from PFOS.optimal_statistic import OptimalStatistic"
   ]
  },
  {
   "cell_type": "markdown",
   "metadata": {},
   "source": [
    "## Load the Pulsars (MDC1 pulsars in enterprise)"
   ]
  },
  {
   "cell_type": "code",
   "execution_count": 2,
   "metadata": {},
   "outputs": [
    {
     "name": "stderr",
     "output_type": "stream",
     "text": [
      "WARNING: Could not find pulsar distance for PSR J0218+4232. Setting value to 1 with 20% uncertainty.\n"
     ]
    },
    {
     "name": "stdout",
     "output_type": "stream",
     "text": [
      "[tempo2Util.C:396] Warning: [TIM1] Please place MODE flags in the parameter file \n",
      "[tempo2Util.C:401] Warning: [DUP1] duplicated warnings have been suppressed.\n"
     ]
    },
    {
     "name": "stderr",
     "output_type": "stream",
     "text": [
      "WARNING: Could not find pulsar distance for PSR J0621+1002. Setting value to 1 with 20% uncertainty.\n",
      "WARNING: Could not find pulsar distance for PSR J0751+1807. Setting value to 1 with 20% uncertainty.\n",
      "WARNING: Could not find pulsar distance for PSR J0900-3144. Setting value to 1 with 20% uncertainty.\n",
      "WARNING: Could not find pulsar distance for PSR J1738+0333. Setting value to 1 with 20% uncertainty.\n",
      "WARNING: Could not find pulsar distance for PSR J1741+1351. Setting value to 1 with 20% uncertainty.\n",
      "WARNING: Could not find pulsar distance for PSR J1751-2857. Setting value to 1 with 20% uncertainty.\n",
      "WARNING: Could not find pulsar distance for PSR J1853+1303. Setting value to 1 with 20% uncertainty.\n",
      "WARNING: Could not find pulsar distance for PSR J1955+2908. Setting value to 1 with 20% uncertainty.\n",
      "WARNING: Could not find pulsar distance for PSR J2019+2425. Setting value to 1 with 20% uncertainty.\n"
     ]
    }
   ],
   "source": [
    "datadir = enterprise.__path__[0] + '/datafiles/mdc_open1/'\n",
    "parfiles = sorted(glob(datadir + '/*.par'))\n",
    "timfiles = sorted(glob(datadir + '/*.tim'))\n",
    "\n",
    "psrs = [Pulsar(par,tim) for par,tim in zip(parfiles,timfiles)]\n",
    "    \n",
    "inj_params = {'gw_log10_A':np.log10(5e-14),'gw_gamma':(13./3.)}\n"
   ]
  },
  {
   "cell_type": "markdown",
   "metadata": {},
   "source": [
    "## Create a PTA object to sample from"
   ]
  },
  {
   "cell_type": "code",
   "execution_count": 3,
   "metadata": {},
   "outputs": [],
   "source": [
    "Tspan = get_tspan(psrs)\n",
    "\n",
    "efac = parameter.Constant(1.0)\n",
    "ef = white_signals.MeasurementNoise(efac=efac)\n",
    "\n",
    "curn = blocks.common_red_noise_block(psd='powerlaw',Tspan=Tspan,components=10,\n",
    "                                     gamma_val=13./3.,logmin=-18,logmax=-12,name='gw')\n",
    "\n",
    "tm = gp_signals.TimingModel(use_svd=True)\n",
    "\n",
    "model = tm + ef + curn\n",
    "\n",
    "pta = signal_base.PTA([model(psr) for psr in psrs])"
   ]
  },
  {
   "cell_type": "markdown",
   "metadata": {},
   "source": [
    "## Sample from the PTA"
   ]
  },
  {
   "cell_type": "code",
   "execution_count": 4,
   "metadata": {},
   "outputs": [],
   "source": [
    "run_sampler = False\n",
    "\n",
    "savepath = 'MDC1_FG_CURN_samples'\n",
    "if run_sampler:\n",
    "    from enterprise_extensions.hypermodel import HyperModel\n",
    "\n",
    "    hyper = HyperModel({0:pta})\n",
    "    sampler = hyper.setup_sampler(resume=True,outdir=savepath)\n",
    "\n",
    "    N = int(1e6)\n",
    "    x0 = hyper.initial_sample()\n",
    "    sampler.sample(x0, N, AMweight=25, SCAMweight=40, DEweight=55, writeHotChains=False)\n",
    "else:\n",
    "    # Load the chain in with la_forge\n",
    "    lfcore = Core(chaindir=savepath)\n",
    "    lfcore.save(savepath+'.core')\n"
   ]
  },
  {
   "cell_type": "markdown",
   "metadata": {},
   "source": [
    "## Create an OSplusplus object"
   ]
  },
  {
   "cell_type": "code",
   "execution_count": 7,
   "metadata": {},
   "outputs": [
    {
     "name": "stderr",
     "output_type": "stream",
     "text": [
      "/Users/gersbaka/Documents/Projects/OSplusplus/Notebooks/../OSplusplus/core.py:163: UserWarning: No parameters set without noise marginalization, defaulting to maximum likelihood OS.\n"
     ]
    },
    {
     "name": "stdout",
     "output_type": "stream",
     "text": [
      "2.508467506388377e-27 1.9360098416715863e-28 12.956894393793577\n",
      "2.508467506388959e-27 1.9360098416715867e-28\n"
     ]
    }
   ],
   "source": [
    "t1 = ospp(psrs,pta,core=lfcore)\n",
    "A2,A2s,total_snr = t1.compute_os(N=1,pair_covariant=False)\n",
    "print(A2, A2s, total_snr)\n",
    "\n",
    "\n",
    "og_os = OptimalStatistic(psrs,pta=pta)\n",
    "_,_,_,old_A2,old_A2s = og_os.compute_os(t1.max_likelihood_params)\n",
    "print(old_A2, old_A2s)"
   ]
  },
  {
   "cell_type": "code",
   "execution_count": null,
   "metadata": {},
   "outputs": [],
   "source": []
  },
  {
   "cell_type": "code",
   "execution_count": 20,
   "metadata": {},
   "outputs": [
    {
     "name": "stderr",
     "output_type": "stream",
     "text": [
      "/Users/gersbaka/Documents/Projects/OSplusplus/Notebooks/../OSplusplus/core.py:223: UserWarning: No parameters set without noise marginalization, defaulting to maximum likelihood OS.\n",
      "/Users/gersbaka/Documents/Projects/OSplusplus/Notebooks/../OSplusplus/core.py:391: RuntimeWarning: invalid value encountered in sqrt\n",
      " 30%|███       | 3/10 [00:00<00:01,  4.56it/s]\n"
     ]
    },
    {
     "ename": "LinAlgError",
     "evalue": "SVD did not converge",
     "output_type": "error",
     "traceback": [
      "\u001b[0;31m---------------------------------------------------------------------------\u001b[0m",
      "\u001b[0;31mLinAlgError\u001b[0m                               Traceback (most recent call last)",
      "\u001b[0;32m/var/folders/bb/_0rqpxpd2cl3kcsqv4vkt18h0000gq/T/ipykernel_43434/1740824541.py\u001b[0m in \u001b[0;36m<module>\u001b[0;34m\u001b[0m\n\u001b[0;32m----> 1\u001b[0;31m \u001b[0msf\u001b[0m\u001b[0;34m,\u001b[0m \u001b[0msfs\u001b[0m\u001b[0;34m,\u001b[0m \u001b[0mtotal_snr\u001b[0m \u001b[0;34m=\u001b[0m \u001b[0mt1\u001b[0m\u001b[0;34m.\u001b[0m\u001b[0mcompute_pfos\u001b[0m\u001b[0;34m(\u001b[0m\u001b[0mpair_covariant\u001b[0m\u001b[0;34m=\u001b[0m\u001b[0;32mFalse\u001b[0m\u001b[0;34m)\u001b[0m\u001b[0;34m\u001b[0m\u001b[0;34m\u001b[0m\u001b[0m\n\u001b[0m\u001b[1;32m      2\u001b[0m \u001b[0mplt\u001b[0m\u001b[0;34m.\u001b[0m\u001b[0merrorbar\u001b[0m\u001b[0;34m(\u001b[0m\u001b[0mt1\u001b[0m\u001b[0;34m.\u001b[0m\u001b[0mfrequencies\u001b[0m\u001b[0;34m,\u001b[0m\u001b[0msf\u001b[0m\u001b[0;34m,\u001b[0m\u001b[0msfs\u001b[0m\u001b[0;34m,\u001b[0m\u001b[0mfmt\u001b[0m\u001b[0;34m=\u001b[0m\u001b[0;34m'.'\u001b[0m\u001b[0;34m)\u001b[0m\u001b[0;34m\u001b[0m\u001b[0;34m\u001b[0m\u001b[0m\n\u001b[1;32m      3\u001b[0m \u001b[0mplt\u001b[0m\u001b[0;34m.\u001b[0m\u001b[0mloglog\u001b[0m\u001b[0;34m(\u001b[0m\u001b[0;34m)\u001b[0m\u001b[0;34m\u001b[0m\u001b[0;34m\u001b[0m\u001b[0m\n\u001b[1;32m      4\u001b[0m \u001b[0mplt\u001b[0m\u001b[0;34m.\u001b[0m\u001b[0mshow\u001b[0m\u001b[0;34m(\u001b[0m\u001b[0;34m)\u001b[0m\u001b[0;34m\u001b[0m\u001b[0;34m\u001b[0m\u001b[0m\n",
      "\u001b[0;32m~/Documents/Projects/OSplusplus/Notebooks/../OSplusplus/core.py\u001b[0m in \u001b[0;36mcompute_pfos\u001b[0;34m(self, params, N, narrowband, pair_covariant, gamma, solve_method, use_tqdm, max_chunk, seed)\u001b[0m\n\u001b[1;32m    230\u001b[0m             \u001b[0mpars\u001b[0m \u001b[0;34m=\u001b[0m \u001b[0mcheck_pta_params\u001b[0m\u001b[0;34m(\u001b[0m\u001b[0mself\u001b[0m\u001b[0;34m.\u001b[0m\u001b[0mpta\u001b[0m\u001b[0;34m,\u001b[0m \u001b[0mparams\u001b[0m\u001b[0;34m,\u001b[0m \u001b[0mlen\u001b[0m\u001b[0;34m(\u001b[0m\u001b[0mself\u001b[0m\u001b[0;34m.\u001b[0m\u001b[0mfrequencies\u001b[0m\u001b[0;34m)\u001b[0m\u001b[0;34m,\u001b[0m \u001b[0mself\u001b[0m\u001b[0;34m.\u001b[0m\u001b[0mgwb_name\u001b[0m\u001b[0;34m)\u001b[0m\u001b[0;34m\u001b[0m\u001b[0;34m\u001b[0m\u001b[0m\n\u001b[1;32m    231\u001b[0m \u001b[0;34m\u001b[0m\u001b[0m\n\u001b[0;32m--> 232\u001b[0;31m             Sf,Sfs,total_snr_f = self._compute_pfos_iteration(pars, gamma, pair_covariant, \n\u001b[0m\u001b[1;32m    233\u001b[0m                                             narrowband, solve_method, use_tqdm, max_chunk)\n\u001b[1;32m    234\u001b[0m             \u001b[0;32mreturn\u001b[0m \u001b[0mSf\u001b[0m\u001b[0;34m,\u001b[0m\u001b[0mSfs\u001b[0m\u001b[0;34m,\u001b[0m\u001b[0mtotal_snr_f\u001b[0m\u001b[0;34m\u001b[0m\u001b[0;34m\u001b[0m\u001b[0m\n",
      "\u001b[0;32m~/Documents/Projects/OSplusplus/Notebooks/../OSplusplus/core.py\u001b[0m in \u001b[0;36m_compute_pfos_iteration\u001b[0;34m(self, params, gamma, pair_covariant, narrowband, solve_method, use_tqdm, max_chunk)\u001b[0m\n\u001b[1;32m    505\u001b[0m                 \u001b[0mC\u001b[0m \u001b[0;34m=\u001b[0m \u001b[0mnp\u001b[0m\u001b[0;34m.\u001b[0m\u001b[0mdiag\u001b[0m\u001b[0;34m(\u001b[0m\u001b[0mnp\u001b[0m\u001b[0;34m.\u001b[0m\u001b[0msquare\u001b[0m\u001b[0;34m(\u001b[0m\u001b[0msig_abk\u001b[0m\u001b[0;34m[\u001b[0m\u001b[0mk\u001b[0m\u001b[0;34m]\u001b[0m\u001b[0;34m)\u001b[0m\u001b[0;34m)\u001b[0m\u001b[0;34m\u001b[0m\u001b[0;34m\u001b[0m\u001b[0m\n\u001b[1;32m    506\u001b[0m \u001b[0;34m\u001b[0m\u001b[0m\n\u001b[0;32m--> 507\u001b[0;31m             \u001b[0ms\u001b[0m\u001b[0;34m,\u001b[0m \u001b[0mss\u001b[0m\u001b[0;34m,\u001b[0m \u001b[0msnr_f\u001b[0m \u001b[0;34m=\u001b[0m \u001b[0mlinear_solve\u001b[0m\u001b[0;34m(\u001b[0m\u001b[0mself\u001b[0m\u001b[0;34m.\u001b[0m\u001b[0morf_design_matrix\u001b[0m\u001b[0;34m.\u001b[0m\u001b[0mT\u001b[0m\u001b[0;34m,\u001b[0m \u001b[0mC\u001b[0m\u001b[0;34m,\u001b[0m \u001b[0mrho_abk\u001b[0m\u001b[0;34m[\u001b[0m\u001b[0mk\u001b[0m\u001b[0;34m,\u001b[0m\u001b[0;34m:\u001b[0m\u001b[0;34m,\u001b[0m\u001b[0;32mNone\u001b[0m\u001b[0;34m]\u001b[0m\u001b[0;34m,\u001b[0m \u001b[0msolve_method\u001b[0m\u001b[0;34m)\u001b[0m\u001b[0;34m\u001b[0m\u001b[0;34m\u001b[0m\u001b[0m\n\u001b[0m\u001b[1;32m    508\u001b[0m             \u001b[0mSf\u001b[0m\u001b[0;34m.\u001b[0m\u001b[0mappend\u001b[0m\u001b[0;34m(\u001b[0m\u001b[0ms\u001b[0m\u001b[0;34m)\u001b[0m\u001b[0;34m\u001b[0m\u001b[0;34m\u001b[0m\u001b[0m\n\u001b[1;32m    509\u001b[0m             \u001b[0mSfs\u001b[0m\u001b[0;34m.\u001b[0m\u001b[0mappend\u001b[0m\u001b[0;34m(\u001b[0m\u001b[0mss\u001b[0m\u001b[0;34m)\u001b[0m\u001b[0;34m\u001b[0m\u001b[0;34m\u001b[0m\u001b[0m\n",
      "\u001b[0;32m~/Documents/Projects/OSplusplus/Notebooks/../OSplusplus/utils.py\u001b[0m in \u001b[0;36mlinear_solve\u001b[0;34m(X, C, r, method)\u001b[0m\n\u001b[1;32m     12\u001b[0m \u001b[0;32mdef\u001b[0m \u001b[0mlinear_solve\u001b[0m\u001b[0;34m(\u001b[0m\u001b[0mX\u001b[0m\u001b[0;34m,\u001b[0m\u001b[0mC\u001b[0m\u001b[0;34m,\u001b[0m\u001b[0mr\u001b[0m\u001b[0;34m,\u001b[0m\u001b[0mmethod\u001b[0m\u001b[0;34m=\u001b[0m\u001b[0;32mNone\u001b[0m\u001b[0;34m)\u001b[0m\u001b[0;34m:\u001b[0m\u001b[0;34m\u001b[0m\u001b[0;34m\u001b[0m\u001b[0m\n\u001b[1;32m     13\u001b[0m     \u001b[0;31m# Valid methods: exact, pinv, cholesky, SVD, Regularized SVD\u001b[0m\u001b[0;34m\u001b[0m\u001b[0;34m\u001b[0m\u001b[0m\n\u001b[0;32m---> 14\u001b[0;31m     \u001b[0mcondition_num\u001b[0m \u001b[0;34m=\u001b[0m \u001b[0mnp\u001b[0m\u001b[0;34m.\u001b[0m\u001b[0mlinalg\u001b[0m\u001b[0;34m.\u001b[0m\u001b[0mcond\u001b[0m\u001b[0;34m(\u001b[0m\u001b[0mC\u001b[0m\u001b[0;34m)\u001b[0m\u001b[0;34m\u001b[0m\u001b[0;34m\u001b[0m\u001b[0m\n\u001b[0m\u001b[1;32m     15\u001b[0m \u001b[0;34m\u001b[0m\u001b[0m\n\u001b[1;32m     16\u001b[0m     \u001b[0;32mif\u001b[0m \u001b[0mmethod\u001b[0m \u001b[0;32mis\u001b[0m \u001b[0;32mNone\u001b[0m\u001b[0;34m:\u001b[0m\u001b[0;34m\u001b[0m\u001b[0;34m\u001b[0m\u001b[0m\n",
      "\u001b[0;32m~/opt/anaconda3/envs/pta_software/lib/python3.9/site-packages/numpy/linalg/linalg.py\u001b[0m in \u001b[0;36mcond\u001b[0;34m(x, p)\u001b[0m\n\u001b[1;32m   1784\u001b[0m         \u001b[0;32mraise\u001b[0m \u001b[0mLinAlgError\u001b[0m\u001b[0;34m(\u001b[0m\u001b[0;34m\"cond is not defined on empty arrays\"\u001b[0m\u001b[0;34m)\u001b[0m\u001b[0;34m\u001b[0m\u001b[0;34m\u001b[0m\u001b[0m\n\u001b[1;32m   1785\u001b[0m     \u001b[0;32mif\u001b[0m \u001b[0mp\u001b[0m \u001b[0;32mis\u001b[0m \u001b[0;32mNone\u001b[0m \u001b[0;32mor\u001b[0m \u001b[0mp\u001b[0m \u001b[0;34m==\u001b[0m \u001b[0;36m2\u001b[0m \u001b[0;32mor\u001b[0m \u001b[0mp\u001b[0m \u001b[0;34m==\u001b[0m \u001b[0;34m-\u001b[0m\u001b[0;36m2\u001b[0m\u001b[0;34m:\u001b[0m\u001b[0;34m\u001b[0m\u001b[0;34m\u001b[0m\u001b[0m\n\u001b[0;32m-> 1786\u001b[0;31m         \u001b[0ms\u001b[0m \u001b[0;34m=\u001b[0m \u001b[0msvd\u001b[0m\u001b[0;34m(\u001b[0m\u001b[0mx\u001b[0m\u001b[0;34m,\u001b[0m \u001b[0mcompute_uv\u001b[0m\u001b[0;34m=\u001b[0m\u001b[0;32mFalse\u001b[0m\u001b[0;34m)\u001b[0m\u001b[0;34m\u001b[0m\u001b[0;34m\u001b[0m\u001b[0m\n\u001b[0m\u001b[1;32m   1787\u001b[0m         \u001b[0;32mwith\u001b[0m \u001b[0merrstate\u001b[0m\u001b[0;34m(\u001b[0m\u001b[0mall\u001b[0m\u001b[0;34m=\u001b[0m\u001b[0;34m'ignore'\u001b[0m\u001b[0;34m)\u001b[0m\u001b[0;34m:\u001b[0m\u001b[0;34m\u001b[0m\u001b[0;34m\u001b[0m\u001b[0m\n\u001b[1;32m   1788\u001b[0m             \u001b[0;32mif\u001b[0m \u001b[0mp\u001b[0m \u001b[0;34m==\u001b[0m \u001b[0;34m-\u001b[0m\u001b[0;36m2\u001b[0m\u001b[0;34m:\u001b[0m\u001b[0;34m\u001b[0m\u001b[0;34m\u001b[0m\u001b[0m\n",
      "\u001b[0;32m~/opt/anaconda3/envs/pta_software/lib/python3.9/site-packages/numpy/linalg/linalg.py\u001b[0m in \u001b[0;36msvd\u001b[0;34m(a, full_matrices, compute_uv, hermitian)\u001b[0m\n\u001b[1;32m   1691\u001b[0m \u001b[0;34m\u001b[0m\u001b[0m\n\u001b[1;32m   1692\u001b[0m         \u001b[0msignature\u001b[0m \u001b[0;34m=\u001b[0m \u001b[0;34m'D->d'\u001b[0m \u001b[0;32mif\u001b[0m \u001b[0misComplexType\u001b[0m\u001b[0;34m(\u001b[0m\u001b[0mt\u001b[0m\u001b[0;34m)\u001b[0m \u001b[0;32melse\u001b[0m \u001b[0;34m'd->d'\u001b[0m\u001b[0;34m\u001b[0m\u001b[0;34m\u001b[0m\u001b[0m\n\u001b[0;32m-> 1693\u001b[0;31m         \u001b[0ms\u001b[0m \u001b[0;34m=\u001b[0m \u001b[0mgufunc\u001b[0m\u001b[0;34m(\u001b[0m\u001b[0ma\u001b[0m\u001b[0;34m,\u001b[0m \u001b[0msignature\u001b[0m\u001b[0;34m=\u001b[0m\u001b[0msignature\u001b[0m\u001b[0;34m,\u001b[0m \u001b[0mextobj\u001b[0m\u001b[0;34m=\u001b[0m\u001b[0mextobj\u001b[0m\u001b[0;34m)\u001b[0m\u001b[0;34m\u001b[0m\u001b[0;34m\u001b[0m\u001b[0m\n\u001b[0m\u001b[1;32m   1694\u001b[0m         \u001b[0ms\u001b[0m \u001b[0;34m=\u001b[0m \u001b[0ms\u001b[0m\u001b[0;34m.\u001b[0m\u001b[0mastype\u001b[0m\u001b[0;34m(\u001b[0m\u001b[0m_realType\u001b[0m\u001b[0;34m(\u001b[0m\u001b[0mresult_t\u001b[0m\u001b[0;34m)\u001b[0m\u001b[0;34m,\u001b[0m \u001b[0mcopy\u001b[0m\u001b[0;34m=\u001b[0m\u001b[0;32mFalse\u001b[0m\u001b[0;34m)\u001b[0m\u001b[0;34m\u001b[0m\u001b[0;34m\u001b[0m\u001b[0m\n\u001b[1;32m   1695\u001b[0m         \u001b[0;32mreturn\u001b[0m \u001b[0ms\u001b[0m\u001b[0;34m\u001b[0m\u001b[0;34m\u001b[0m\u001b[0m\n",
      "\u001b[0;32m~/opt/anaconda3/envs/pta_software/lib/python3.9/site-packages/numpy/linalg/linalg.py\u001b[0m in \u001b[0;36m_raise_linalgerror_svd_nonconvergence\u001b[0;34m(err, flag)\u001b[0m\n\u001b[1;32m    119\u001b[0m \u001b[0;34m\u001b[0m\u001b[0m\n\u001b[1;32m    120\u001b[0m \u001b[0;32mdef\u001b[0m \u001b[0m_raise_linalgerror_svd_nonconvergence\u001b[0m\u001b[0;34m(\u001b[0m\u001b[0merr\u001b[0m\u001b[0;34m,\u001b[0m \u001b[0mflag\u001b[0m\u001b[0;34m)\u001b[0m\u001b[0;34m:\u001b[0m\u001b[0;34m\u001b[0m\u001b[0;34m\u001b[0m\u001b[0m\n\u001b[0;32m--> 121\u001b[0;31m     \u001b[0;32mraise\u001b[0m \u001b[0mLinAlgError\u001b[0m\u001b[0;34m(\u001b[0m\u001b[0;34m\"SVD did not converge\"\u001b[0m\u001b[0;34m)\u001b[0m\u001b[0;34m\u001b[0m\u001b[0;34m\u001b[0m\u001b[0m\n\u001b[0m\u001b[1;32m    122\u001b[0m \u001b[0;34m\u001b[0m\u001b[0m\n\u001b[1;32m    123\u001b[0m \u001b[0;32mdef\u001b[0m \u001b[0m_raise_linalgerror_lstsq\u001b[0m\u001b[0;34m(\u001b[0m\u001b[0merr\u001b[0m\u001b[0;34m,\u001b[0m \u001b[0mflag\u001b[0m\u001b[0;34m)\u001b[0m\u001b[0;34m:\u001b[0m\u001b[0;34m\u001b[0m\u001b[0;34m\u001b[0m\u001b[0m\n",
      "\u001b[0;31mLinAlgError\u001b[0m: SVD did not converge"
     ]
    }
   ],
   "source": [
    "sf, sfs, total_snr = t1.compute_pfos(pair_covariant=False)\n",
    "plt.errorbar(t1.frequencies,sf,sfs,fmt='.')\n",
    "plt.loglog()\n",
    "plt.show()"
   ]
  },
  {
   "cell_type": "code",
   "execution_count": 38,
   "metadata": {},
   "outputs": [
    {
     "name": "stderr",
     "output_type": "stream",
     "text": [
      "/Users/gersbaka/Documents/Projects/OSplusplus/Notebooks/../OSplusplus/core.py:163: UserWarning: No parameters set without noise marginalization, defaulting to maximum likelihood OS.\n"
     ]
    },
    {
     "name": "stdout",
     "output_type": "stream",
     "text": [
      "(2, 630) (630, 630) (630,)\n",
      "[2.50508927e-27 4.71505657e-30] [[ 3.87938594e-56 -1.83190212e-57]\n",
      " [-1.83190212e-57  2.55681413e-57]] 12.957229929018965\n"
     ]
    },
    {
     "name": "stderr",
     "output_type": "stream",
     "text": [
      "Pairs of pairs: 100%|███████████████| 198765/198765 [00:00<00:00, 585433.17it/s]\n"
     ]
    },
    {
     "name": "stdout",
     "output_type": "stream",
     "text": [
      "(2, 630) (630, 630) (630,)\n",
      "[ 2.53234577e-27 -2.48233981e-29] [[ 2.77737486e-55 -5.89849858e-58]\n",
      " [-5.89849858e-58  2.29968317e-57]] 4.822224732076541\n"
     ]
    }
   ],
   "source": [
    "t1.set_orf(['hd','dipole'])\n",
    "\n",
    "A2,A2s,total_snr = t1.compute_os(pair_covariant=False)\n",
    "print(A2,A2s,total_snr)\n",
    "\n",
    "A2,A2s,total_snr = t1.compute_os(pair_covariant=True)\n",
    "print(A2,A2s,total_snr)"
   ]
  },
  {
   "cell_type": "markdown",
   "metadata": {},
   "source": [
    "## Free spectral models"
   ]
  },
  {
   "cell_type": "code",
   "execution_count": 12,
   "metadata": {},
   "outputs": [],
   "source": [
    "Tspan = get_tspan(psrs)\n",
    "\n",
    "efac = parameter.Constant(1.0)\n",
    "ef = white_signals.MeasurementNoise(efac=efac)\n",
    "\n",
    "curn = blocks.common_red_noise_block(psd='spectrum',Tspan=Tspan,components=10,\n",
    "                                     gamma_val=13./3.,logmin=-14,logmax=-9,name='gw')\n",
    "\n",
    "tm = gp_signals.TimingModel(use_svd=True)\n",
    "\n",
    "model = tm + ef + curn\n",
    "\n",
    "fs_pta = signal_base.PTA([model(psr) for psr in psrs])"
   ]
  },
  {
   "cell_type": "code",
   "execution_count": 13,
   "metadata": {},
   "outputs": [],
   "source": [
    "run_sampler = False\n",
    "\n",
    "savepath = 'MDC1_FS_CURN_samples'\n",
    "if run_sampler:\n",
    "    from enterprise_extensions.hypermodel import HyperModel\n",
    "\n",
    "    hyper = HyperModel({0:fs_pta})\n",
    "    sampler = hyper.setup_sampler(resume=True,outdir=savepath)\n",
    "\n",
    "    N = int(1e6)\n",
    "    x0 = hyper.initial_sample()\n",
    "    sampler.sample(x0, N, AMweight=25, SCAMweight=40, DEweight=55, writeHotChains=False)\n",
    "else:\n",
    "    # Load the chain in with la_forge\n",
    "    fs_lfcore = Core(chaindir=savepath)\n",
    "    fs_lfcore.save(savepath+'.core')\n"
   ]
  },
  {
   "cell_type": "code",
   "execution_count": 22,
   "metadata": {},
   "outputs": [
    {
     "data": {
      "text/plain": [
       "['gw_log10_rho_0',\n",
       " 'gw_log10_rho_1',\n",
       " 'gw_log10_rho_2',\n",
       " 'gw_log10_rho_3',\n",
       " 'gw_log10_rho_4',\n",
       " 'gw_log10_rho_5',\n",
       " 'gw_log10_rho_6',\n",
       " 'gw_log10_rho_7',\n",
       " 'gw_log10_rho_8',\n",
       " 'gw_log10_rho_9']"
      ]
     },
     "execution_count": 22,
     "metadata": {},
     "output_type": "execute_result"
    }
   ],
   "source": [
    "fs_pta.param_names"
   ]
  },
  {
   "cell_type": "code",
   "execution_count": 47,
   "metadata": {},
   "outputs": [
    {
     "name": "stderr",
     "output_type": "stream",
     "text": [
      "/Users/gersbaka/Documents/Projects/OSplusplus/Notebooks/../OSplusplus/core.py:163: UserWarning: No parameters set without noise marginalization, defaulting to maximum likelihood OS.\n"
     ]
    },
    {
     "name": "stdout",
     "output_type": "stream",
     "text": [
      "Loading data from HDF5 file....\n"
     ]
    },
    {
     "name": "stderr",
     "output_type": "stream",
     "text": [
      "Pairs of pairs: 100%|███████████████| 198765/198765 [00:00<00:00, 590899.66it/s]\n"
     ]
    },
    {
     "name": "stdout",
     "output_type": "stream",
     "text": [
      "7.984925469881207e-27 1.3771303835428785e-15 5.79823491319592e-12\n"
     ]
    }
   ],
   "source": [
    "t2 = ospp(psrs,fs_pta,corepath='MDC1_FS_CURN_samples.core')\n",
    "A2,A2s,total_snr = t2.compute_os(pair_covariant=True,gamma=13./3.)\n",
    "print(A2, A2s, total_snr)\n"
   ]
  },
  {
   "cell_type": "code",
   "execution_count": 51,
   "metadata": {},
   "outputs": [
    {
     "data": {
      "text/plain": [
       "-5.508135585274247e-15"
      ]
     },
     "execution_count": 51,
     "metadata": {},
     "output_type": "execute_result"
    }
   ],
   "source": [
    "from OSplusplus.utils import get_gwb_a2\n",
    "get_gwb_a2(fs_pta,t2.max_likelihood_params,'gw')"
   ]
  },
  {
   "cell_type": "code",
   "execution_count": 49,
   "metadata": {},
   "outputs": [
    {
     "data": {
      "text/plain": [
       "{'gw_log10_A': -13.301029995663981, 'gw_gamma': 4.333333333333333}"
      ]
     },
     "execution_count": 49,
     "metadata": {},
     "output_type": "execute_result"
    }
   ],
   "source": [
    "inj_params"
   ]
  }
 ],
 "metadata": {
  "kernelspec": {
   "display_name": "pta_software",
   "language": "python",
   "name": "python3"
  },
  "language_info": {
   "codemirror_mode": {
    "name": "ipython",
    "version": 3
   },
   "file_extension": ".py",
   "mimetype": "text/x-python",
   "name": "python",
   "nbconvert_exporter": "python",
   "pygments_lexer": "ipython3",
   "version": "3.9.10"
  }
 },
 "nbformat": 4,
 "nbformat_minor": 2
}

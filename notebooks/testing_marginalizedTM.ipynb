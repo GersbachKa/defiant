{
 "cells": [
  {
   "cell_type": "code",
   "execution_count": 1,
   "metadata": {},
   "outputs": [
    {
     "name": "stdout",
     "output_type": "stream",
     "text": [
      "Warning: cannot find astropy, units support will not be available.\n"
     ]
    }
   ],
   "source": [
    "%matplotlib inline\n",
    "%config InlineBackend.figure_format = 'retina'\n",
    "\n",
    "%load_ext autoreload\n",
    "%autoreload 2\n",
    "\n",
    "import numpy as np\n",
    "from matplotlib import pyplot as plt\n",
    "from glob import glob\n",
    "\n",
    "import enterprise\n",
    "from enterprise.pulsar import Pulsar\n",
    "from enterprise.signals import parameter,white_signals,gp_signals,signal_base\n",
    "from enterprise.signals.utils import powerlaw\n",
    "\n",
    "from enterprise_extensions import blocks\n",
    "from enterprise_extensions.model_utils import get_tspan\n",
    "\n",
    "from enterprise_extensions.frequentist.optimal_statistic import OptimalStatistic as old_OptimalStatistic\n",
    "\n",
    "from la_forge.core import Core\n",
    "\n",
    "import sys\n",
    "sys.path.append('../')\n",
    "\n",
    "from defiant import OptimalStatistic\n",
    "from defiant import utils\n",
    "from defiant.extra import mdc1_utils\n",
    "\n",
    "import scipy.linalg as sl"
   ]
  },
  {
   "cell_type": "code",
   "execution_count": 2,
   "metadata": {},
   "outputs": [
    {
     "name": "stdout",
     "output_type": "stream",
     "text": [
      "[tempo2Util.C:396] Warning: [TIM1] Please place MODE flags in the parameter file \n",
      "[tempo2Util.C:401] Warning: [DUP1] duplicated warnings have been suppressed.\n"
     ]
    }
   ],
   "source": [
    "psrs, inj_params = mdc1_utils.create_MDC1_like_psrs(gwb_amplitude=1e-15,irn_amplitude=1e-15,seed=2232)\n",
    "\n",
    "pta   = mdc1_utils.create_MDC1_PTA(psrs, include_irn=True, use_marginalizingtm=False)\n",
    "m_pta = mdc1_utils.create_MDC1_PTA(psrs, include_irn=True, use_marginalizingtm=True)"
   ]
  },
  {
   "cell_type": "code",
   "execution_count": 3,
   "metadata": {},
   "outputs": [
    {
     "name": "stderr",
     "output_type": "stream",
     "text": [
      "/Users/gersbaka/Documents/Projects/defiant/notebooks/../defiant/core.py:168: UserWarning: No MCMC samples were given! Set these later or supply them when computing the OS.\n"
     ]
    }
   ],
   "source": [
    "OS_obj   = OptimalStatistic(psrs,pta=pta,gwb_name='gw')\n",
    "m_OS_obj = OptimalStatistic(psrs,pta=m_pta,gwb_name='gw')"
   ]
  },
  {
   "cell_type": "code",
   "execution_count": 4,
   "metadata": {},
   "outputs": [],
   "source": [
    "def solveD(N_obj, right, left):\n",
    "    Nmat = N_obj.Nmat\n",
    "\n",
    "    lNr = Nmat.solve(right, left_array=left)\n",
    "    return lNr - np.tensordot(N_obj.MNF(left), N_obj.MNMMNF(right), (0, 0))"
   ]
  },
  {
   "cell_type": "code",
   "execution_count": 5,
   "metadata": {},
   "outputs": [],
   "source": [
    "# new marginalizingTM code 1 (Using custom solve method with T)\n",
    "def marginalizingTM_code1(pta, params):\n",
    "    npsr = 36\n",
    "    nfreq = 10\n",
    "\n",
    "    X = np.zeros( shape = ( npsr, 2*nfreq ) ) # An array of vectors\n",
    "    Z = np.zeros( shape = ( npsr, 2*nfreq, 2*nfreq ) ) # An array of matrices\n",
    "\n",
    "    for a,psr_signal in enumerate(pta._signalcollections):\n",
    "        phiinv = psr_signal.get_phiinv(params)\n",
    "        if phiinv.ndim == 1:\n",
    "            phiinv = np.diag(phiinv)\n",
    "\n",
    "        r = psr_signal._residuals\n",
    "        F = psr_signal['gw'].get_basis()\n",
    "        T = psr_signal.get_basis()\n",
    "        N = psr_signal.get_ndiag()\n",
    "\n",
    "\n",
    "        FNr = solveD(N,r,F)\n",
    "        TNr = solveD(N,r,T)\n",
    "        FNF = solveD(N,F,F)\n",
    "        FNT = solveD(N,T,F)\n",
    "        TNT = solveD(N,T,T)\n",
    "\n",
    "        sigma = phiinv + TNT\n",
    "        try:\n",
    "            cf = sl.cho_factor(sigma)\n",
    "            X[a] = FNr - FNT @ sl.cho_solve(cf, TNr)\n",
    "            Z[a] = FNF - FNT @ sl.cho_solve(cf, FNT.T)\n",
    "        except np.linalg.LinAlgError:\n",
    "            X[a] = FNr - FNT @ np.linalg.solve(sigma, TNr)\n",
    "            Z[a] = FNF - FNT @ np.linalg.solve(sigma, FNT.T)\n",
    "\n",
    "    return X, Z\n",
    "\n",
    "# new marginalizingTM code 2 (Using ignoring non-gw frequencies)\n",
    "def marginalizingTM_code2(pta, params):\n",
    "    npsr = 36\n",
    "    nfreq = 10\n",
    "\n",
    "    X = np.zeros( shape = ( npsr, 2*nfreq ) ) # An array of vectors\n",
    "    Z = np.zeros( shape = ( npsr, 2*nfreq, 2*nfreq ) ) # An array of matrices\n",
    "\n",
    "    for a,psr_signal in enumerate(pta._signalcollections):\n",
    "        phiinv = psr_signal.get_phiinv(params)[:2*nfreq]\n",
    "        if phiinv.ndim == 1:\n",
    "            phiinv = np.diag(phiinv)\n",
    "\n",
    "        r = psr_signal._residuals\n",
    "        F = psr_signal['gw'].get_basis()\n",
    "        T = psr_signal.get_basis()\n",
    "        N = psr_signal.get_ndiag()\n",
    "\n",
    "\n",
    "        FNr = N.solve(r,F)\n",
    "        FNF = N.solve(F,F)\n",
    "\n",
    "        sigma = phiinv + FNF\n",
    "        try:\n",
    "            cf = sl.cho_factor(sigma)\n",
    "            X[a] = FNr - FNF @ sl.cho_solve(cf, FNr)\n",
    "            Z[a] = FNF - FNF @ sl.cho_solve(cf, FNF)\n",
    "        except np.linalg.LinAlgError:\n",
    "            X[a] = FNr - FNF @ np.linalg.solve(sigma, FNr)\n",
    "            Z[a] = FNF - FNF @ np.linalg.solve(sigma, FNF)\n",
    "\n",
    "    return X, Z"
   ]
  },
  {
   "cell_type": "code",
   "execution_count": 6,
   "metadata": {},
   "outputs": [],
   "source": [
    "old_X, old_Z = OS_obj._compute_XZ(inj_params)\n",
    "new_X1, new_Z1 = marginalizingTM_code1(m_pta,inj_params)\n",
    "new_X2, new_Z2 = marginalizingTM_code2(m_pta,inj_params)\n",
    "\n",
    "phihat = powerlaw(np.repeat(OS_obj.freqs,2),0,13./3.,1)\n",
    "old_rho, old_sig = OS_obj._compute_rho_sig(old_X, old_Z, phihat)\n",
    "new_rho1, new_sig1 = OS_obj._compute_rho_sig(new_X1, new_Z1, phihat)\n",
    "new_rho2, new_sig2 = OS_obj._compute_rho_sig(new_X2, new_Z2, phihat)\n",
    "\n",
    "xi,_ = utils.compute_pulsar_pair_separations(OS_obj.psrs)"
   ]
  },
  {
   "cell_type": "code",
   "execution_count": 7,
   "metadata": {},
   "outputs": [
    {
     "name": "stdout",
     "output_type": "stream",
     "text": [
      "True\n",
      "True\n",
      "False\n",
      "False\n"
     ]
    }
   ],
   "source": [
    "print(np.allclose(new_X1, old_X))\n",
    "print(np.allclose(new_Z1, old_Z))\n",
    "print(np.allclose(new_X2, old_X))\n",
    "print(np.allclose(new_Z2, old_Z))"
   ]
  },
  {
   "cell_type": "code",
   "execution_count": 8,
   "metadata": {},
   "outputs": [
    {
     "name": "stdout",
     "output_type": "stream",
     "text": [
      "True\n",
      "True\n",
      "True\n",
      "True\n"
     ]
    }
   ],
   "source": [
    "print(np.allclose(new_rho1, old_rho))\n",
    "print(np.allclose(new_sig1, old_sig))\n",
    "print(np.allclose(new_rho2, old_rho))\n",
    "print(np.allclose(new_sig2, old_sig))"
   ]
  },
  {
   "cell_type": "code",
   "execution_count": 9,
   "metadata": {},
   "outputs": [
    {
     "data": {
      "image/png": "[encoded data removed]",
      "text/plain": [
       "<Figure size 432x288 with 1 Axes>"
      ]
     },
     "metadata": {
      "image/png": {
       "height": 277,
       "width": 394
      },
      "needs_background": "light"
     },
     "output_type": "display_data"
    }
   ],
   "source": [
    "xia,rhoa,siga = utils.binned_pair_correlations(xi,old_rho,old_sig,20)\n",
    "plt.errorbar(xia,rhoa,siga,fmt='.',capsize=3,label='old (no marginalizingTM)')\n",
    "\n",
    "xia,rhoa,siga = utils.binned_pair_correlations(xi+0.02,new_rho1,new_sig1,20)\n",
    "plt.errorbar(xia,rhoa,siga,fmt='.',capsize=3,label='new - My solve method')\n",
    "\n",
    "xia,rhoa,siga = utils.binned_pair_correlations(xi+0.04,new_rho2,new_sig2,20)\n",
    "plt.errorbar(xia,rhoa,siga,fmt='.',capsize=3,label='new - Ignore non-gw frequencies')\n",
    "plt.legend()\n",
    "plt.xlabel('Pulsar Pair Separation (radians)')\n",
    "plt.ylabel('Correlated power')\n",
    "plt.title('OS Binned xi, rho, sig')\n",
    "plt.show()\n"
   ]
  },
  {
   "cell_type": "code",
   "execution_count": 10,
   "metadata": {},
   "outputs": [
    {
     "name": "stderr",
     "output_type": "stream",
     "text": [
      "Pairs covariance elements: 100%|████| 198765/198765 [00:00<00:00, 574082.07it/s]\n",
      "Pairs covariance elements: 100%|████| 198765/198765 [00:00<00:00, 500845.48it/s]\n"
     ]
    },
    {
     "name": "stdout",
     "output_type": "stream",
     "text": [
      "True\n",
      "True\n",
      "True\n",
      "2.3791880003968356e-30 2.3791880003968675e-30\n",
      "7.607321358857713e-31 7.607321358857717e-31\n"
     ]
    }
   ],
   "source": [
    "xi,rho,sig,C,A2,A2s = OS_obj.compute_OS(inj_params,pair_covariance=True)\n",
    "m_xi,m_rho,m_sig,m_C,m_A2,m_A2s = m_OS_obj.compute_OS(inj_params,pair_covariance=True)\n",
    "\n",
    "print(np.allclose(rho,m_rho))\n",
    "print(np.allclose(sig,m_sig))\n",
    "print(np.allclose(C,m_C))\n",
    "print(A2,m_A2)\n",
    "print(A2s,m_A2s)"
   ]
  },
  {
   "cell_type": "code",
   "execution_count": 11,
   "metadata": {},
   "outputs": [
    {
     "name": "stdout",
     "output_type": "stream",
     "text": [
      "14.5 ms ± 136 µs per loop (mean ± std. dev. of 7 runs, 100 loops each)\n",
      "11.1 ms ± 124 µs per loop (mean ± std. dev. of 7 runs, 100 loops each)\n"
     ]
    }
   ],
   "source": [
    "%timeit OS_obj.compute_OS(inj_params,pair_covariance=False)\n",
    "%timeit m_OS_obj.compute_OS(inj_params,pair_covariance=False)"
   ]
  }
 ],
 "metadata": {
  "kernelspec": {
   "display_name": "pta_software",
   "language": "python",
   "name": "python3"
  },
  "language_info": {
   "codemirror_mode": {
    "name": "ipython",
    "version": 3
   },
   "file_extension": ".py",
   "mimetype": "text/x-python",
   "name": "python",
   "nbconvert_exporter": "python",
   "pygments_lexer": "ipython3",
   "version": "3.9.10"
  }
 },
 "nbformat": 4,
 "nbformat_minor": 2
}

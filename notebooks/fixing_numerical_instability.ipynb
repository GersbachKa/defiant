{
 "cells": [
  {
   "cell_type": "code",
   "execution_count": 1,
   "metadata": {},
   "outputs": [
    {
     "name": "stdout",
     "output_type": "stream",
     "text": [
      "Warning: cannot find astropy, units support will not be available.\n"
     ]
    }
   ],
   "source": [
    "%matplotlib inline\n",
    "%config InlineBackend.figure_format = 'retina'\n",
    "\n",
    "%load_ext autoreload\n",
    "%autoreload 2\n",
    "\n",
    "import numpy as np\n",
    "from matplotlib import pyplot as plt\n",
    "from glob import glob\n",
    "\n",
    "import enterprise\n",
    "from enterprise.pulsar import Pulsar\n",
    "from enterprise.signals import parameter,white_signals,gp_signals,signal_base\n",
    "from enterprise.signals.utils import powerlaw\n",
    "\n",
    "from enterprise_extensions import blocks\n",
    "from enterprise_extensions.model_utils import get_tspan\n",
    "\n",
    "from la_forge.core import Core\n",
    "\n",
    "import sys\n",
    "sys.path.append('../')\n",
    "\n",
    "from defiant import OptimalStatistic\n",
    "from defiant import utils"
   ]
  },
  {
   "cell_type": "code",
   "execution_count": 21,
   "metadata": {},
   "outputs": [
    {
     "name": "stderr",
     "output_type": "stream",
     "text": [
      "WARNING: Could not find pulsar distance for PSR J0218+4232. Setting value to 1 with 20% uncertainty.\n"
     ]
    },
    {
     "name": "stdout",
     "output_type": "stream",
     "text": [
      "[tempo2Util.C:396] Warning: [TIM1] Please place MODE flags in the parameter file \n",
      "[tempo2Util.C:401] Warning: [DUP1] duplicated warnings have been suppressed.\n"
     ]
    },
    {
     "name": "stderr",
     "output_type": "stream",
     "text": [
      "WARNING: Could not find pulsar distance for PSR J0621+1002. Setting value to 1 with 20% uncertainty.\n",
      "WARNING: Could not find pulsar distance for PSR J0751+1807. Setting value to 1 with 20% uncertainty.\n",
      "WARNING: Could not find pulsar distance for PSR J0900-3144. Setting value to 1 with 20% uncertainty.\n",
      "WARNING: Could not find pulsar distance for PSR J1738+0333. Setting value to 1 with 20% uncertainty.\n",
      "WARNING: Could not find pulsar distance for PSR J1741+1351. Setting value to 1 with 20% uncertainty.\n",
      "WARNING: Could not find pulsar distance for PSR J1751-2857. Setting value to 1 with 20% uncertainty.\n",
      "WARNING: Could not find pulsar distance for PSR J1853+1303. Setting value to 1 with 20% uncertainty.\n",
      "WARNING: Could not find pulsar distance for PSR J1955+2908. Setting value to 1 with 20% uncertainty.\n",
      "WARNING: Could not find pulsar distance for PSR J2019+2425. Setting value to 1 with 20% uncertainty.\n"
     ]
    }
   ],
   "source": [
    "datadir = enterprise.__path__[0] + '/datafiles/mdc_open1/'\n",
    "parfiles = sorted(glob(datadir + '/*.par'))\n",
    "timfiles = sorted(glob(datadir + '/*.tim'))\n",
    "\n",
    "psrs = [Pulsar(par,tim) for par,tim in zip(parfiles,timfiles)]\n",
    "\n",
    "inj_params = {'gw_log10_A':np.log10(5e-14)}"
   ]
  },
  {
   "cell_type": "code",
   "execution_count": 22,
   "metadata": {},
   "outputs": [],
   "source": [
    "Tspan = get_tspan(psrs)\n",
    "\n",
    "efac = parameter.Constant(1.0)\n",
    "ef = white_signals.MeasurementNoise(efac=efac)\n",
    "\n",
    "curn = blocks.common_red_noise_block(psd='powerlaw',Tspan=Tspan,components=10,\n",
    "                                     gamma_val=13./3.,logmin=-18,logmax=-12,name='gw')\n",
    "\n",
    "tm = gp_signals.TimingModel(use_svd=True)\n",
    "\n",
    "model = tm + ef + curn\n",
    "\n",
    "pta = signal_base.PTA([model(psr) for psr in psrs])"
   ]
  },
  {
   "cell_type": "code",
   "execution_count": 24,
   "metadata": {},
   "outputs": [
    {
     "name": "stdout",
     "output_type": "stream",
     "text": [
      "Loading data from HDF5 file....\n"
     ]
    }
   ],
   "source": [
    "OS_obj = OptimalStatistic(psrs,pta=pta,gwb_name='gw',core_path='../unit_tests/MDC1_FG_CURN_samples.core')"
   ]
  },
  {
   "cell_type": "code",
   "execution_count": null,
   "metadata": {},
   "outputs": [],
   "source": [
    "OS_obj.compute_PFOS(params=inj_params,pair_covariance=False,narrowband=False)"
   ]
  }
 ],
 "metadata": {
  "kernelspec": {
   "display_name": "pta_software",
   "language": "python",
   "name": "python3"
  },
  "language_info": {
   "codemirror_mode": {
    "name": "ipython",
    "version": 3
   },
   "file_extension": ".py",
   "mimetype": "text/x-python",
   "name": "python",
   "nbconvert_exporter": "python",
   "pygments_lexer": "ipython3",
   "version": "3.9.10"
  }
 },
 "nbformat": 4,
 "nbformat_minor": 2
}
